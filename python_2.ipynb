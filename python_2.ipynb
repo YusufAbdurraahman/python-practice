{
  "nbformat": 4,
  "nbformat_minor": 0,
  "metadata": {
    "colab": {
      "provenance": [],
      "authorship_tag": "ABX9TyMY8nPsh995ABBg0eIswxAt",
      "include_colab_link": true
    },
    "kernelspec": {
      "name": "python3",
      "display_name": "Python 3"
    },
    "language_info": {
      "name": "python"
    }
  },
  "cells": [
    {
      "cell_type": "markdown",
      "metadata": {
        "id": "view-in-github",
        "colab_type": "text"
      },
      "source": [
        "<a href=\"https://colab.research.google.com/github/YusufAbdurraahman/python-practice/blob/main/python_2.ipynb\" target=\"_parent\"><img src=\"https://colab.research.google.com/assets/colab-badge.svg\" alt=\"Open In Colab\"/></a>"
      ]
    },
    {
      "cell_type": "markdown",
      "source": [
        "# **Latihan python dasar**"
      ],
      "metadata": {
        "id": "0eu17CCfl0aL"
      }
    },
    {
      "cell_type": "markdown",
      "source": [
        "**1. Program kasir kopi sederhana pemula**"
      ],
      "metadata": {
        "id": "dxhZqhPXl6oL"
      }
    },
    {
      "cell_type": "code",
      "source": [
        "# 1. Bikin daftar menu kopi\n",
        "daftar_menu_kopi = {\n",
        "    \"1. Americano\" : 20000,\n",
        "    \"2. Latte\" : 30000,\n",
        "    \"3. Capucino\" : 35000\n",
        "}\n",
        "\n",
        "# 2. Tampilkan menu ke user\n",
        "for key, value in daftar_menu_kopi.items():\n",
        "  print(f\"{key} : {value}\")\n",
        "\n",
        "while True:\n",
        "  # 3. User pilih kopi\n",
        "  pilih_kopi = int(input(\"Silahkan pilih menu kopi : \"))\n",
        "\n",
        "  # 4. User masukkan jumlah\n",
        "  jumlah_gelas = int(input(\"Jumlah gelas : \"))\n",
        "\n",
        "  # 5. Hitung total dan tampilkan hasil\n",
        "  if pilih_kopi == 1:\n",
        "    print(\"Total : Rp.\", jumlah_gelas * daftar_menu_kopi[\"1. Americano\"])\n",
        "\n",
        "  elif pilih_kopi == 2:\n",
        "    print(\"Total : Rp.\", jumlah_gelas * daftar_menu_kopi[\"2. Latte\"])\n",
        "\n",
        "  elif pilih_kopi == 3:\n",
        "    print(\"Total : Rp.\", jumlah_gelas * daftar_menu_kopi[\"3. Capucino\"])\n",
        "  else:\n",
        "    print(\"Pilihan tidak ditemukan\")\n",
        "    continue\n",
        "\n",
        "  lagi = str(input(\"Mau pesan lagi ? y/n : \")).lower()\n",
        "\n",
        "  if lagi == \"n\":\n",
        "    break"
      ],
      "metadata": {
        "colab": {
          "base_uri": "https://localhost:8080/"
        },
        "id": "Ddb6SYYZl-dU",
        "outputId": "bc77302b-fbc4-4e49-9d39-69149f042e52"
      },
      "execution_count": 60,
      "outputs": [
        {
          "name": "stdout",
          "output_type": "stream",
          "text": [
            "1. Americano : 20000\n",
            "2. Latte : 30000\n",
            "3. Capucino : 35000\n",
            "Silahkan pilih menu kopi : 4\n",
            "Jumlah gelas : 2\n",
            "Pilihan tidak ditemukan\n",
            "Silahkan pilih menu kopi : 2\n",
            "Jumlah gelas : 2\n",
            "Total : Rp. 60000\n",
            "Mau pesan lagi ? y/n : n\n"
          ]
        }
      ]
    },
    {
      "cell_type": "markdown",
      "source": [
        "**Cara yang lebih efektif**"
      ],
      "metadata": {
        "id": "CmGR7DCRuStw"
      }
    },
    {
      "cell_type": "code",
      "source": [
        "menu_kopi = {\n",
        "    \"1\": {\"nama\": \"Americano\", \"harga\": 20000},\n",
        "    \"2\": {\"nama\": \"Latte\", \"harga\": 30000},\n",
        "    \"3\": {\"nama\": \"Cappuccino\", \"harga\": 35000},\n",
        "    \"4\": {\"nama\": \"Espresso\", \"harga\": 25000},\n",
        "}\n",
        "print(\"== Selamat datang di coffe shop ==\")\n",
        "\n",
        "total_harga = 0\n",
        "\n",
        "while True:\n",
        "  print(\"\\n📋 Menu Kopi:\")\n",
        "  for key, item in menu_kopi.items():\n",
        "    print(f\"{key}. {item['nama']} - Rp{item['harga']:,}\")\n",
        "\n",
        "  pilihan = input(\"Masukkan menu kopi yang diinginkan (atau ketik q untuk selesai): \")\n",
        "\n",
        "  if pilihan.lower() == \"q\":\n",
        "    break\n",
        "\n",
        "  if pilihan in menu_kopi:\n",
        "    try:\n",
        "      jumlah_gelas = int(input(f\"Berapa gelas {menu_kopi[pilihan]['nama']} ? \"))\n",
        "\n",
        "    except ValueError:\n",
        "      print(\"Jumlah harus memakai nomor !\")\n",
        "      continue\n",
        "\n",
        "    total = menu_kopi[pilihan][\"harga\"] * jumlah_gelas\n",
        "    total_harga += total\n",
        "    print(f\"✅ Pesanan ditambahkan : {jumlah_gelas}x {menu_kopi[pilihan]['nama']} (Rp{total:,})\")\n",
        "  else:\n",
        "    print(\"⚠️ Menu tidak ditemukan!\")\n",
        "\n",
        "print(\"\\n=== Struk Pembayaran ===\")\n",
        "print(f\"Total yang harus dibayar: Rp{total_harga:,}\")\n",
        "print(\"Terima kasih sudah mampir ☕😊\")"
      ],
      "metadata": {
        "colab": {
          "base_uri": "https://localhost:8080/"
        },
        "id": "_taPzjp3z9AF",
        "outputId": "c051bb91-7b58-41f7-bc42-405c40eef900"
      },
      "execution_count": 28,
      "outputs": [
        {
          "output_type": "stream",
          "name": "stdout",
          "text": [
            "== Selamat datang di coffe shop ==\n",
            "\n",
            "📋 Menu Kopi:\n",
            "1. Americano - Rp20,000\n",
            "2. Latte - Rp30,000\n",
            "3. Cappuccino - Rp35,000\n",
            "4. Espresso - Rp25,000\n",
            "Masukkan menu kopi yang diinginkan (atau ketik q untuk selesai): 2\n",
            "Berapa gelas Latte ? 3\n",
            "✅ Pesanan ditambahkan : 3x Latte (Rp90,000)\n",
            "\n",
            "📋 Menu Kopi:\n",
            "1. Americano - Rp20,000\n",
            "2. Latte - Rp30,000\n",
            "3. Cappuccino - Rp35,000\n",
            "4. Espresso - Rp25,000\n",
            "Masukkan menu kopi yang diinginkan (atau ketik q untuk selesai): q\n",
            "\n",
            "=== Struk Pembayaran ===\n",
            "Total yang harus dibayar: Rp90,000\n",
            "Terima kasih sudah mampir ☕😊\n"
          ]
        }
      ]
    }
  ]
}