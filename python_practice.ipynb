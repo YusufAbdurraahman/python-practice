{
  "nbformat": 4,
  "nbformat_minor": 0,
  "metadata": {
    "colab": {
      "provenance": [],
      "authorship_tag": "ABX9TyNALJrb4YufldOuKE2yaOxA",
      "include_colab_link": true
    },
    "kernelspec": {
      "name": "python3",
      "display_name": "Python 3"
    },
    "language_info": {
      "name": "python"
    }
  },
  "cells": [
    {
      "cell_type": "markdown",
      "metadata": {
        "id": "view-in-github",
        "colab_type": "text"
      },
      "source": [
        "<a href=\"https://colab.research.google.com/github/YusufAbdurraahman/python-practice/blob/main/python_practice.ipynb\" target=\"_parent\"><img src=\"https://colab.research.google.com/assets/colab-badge.svg\" alt=\"Open In Colab\"/></a>"
      ]
    },
    {
      "cell_type": "markdown",
      "source": [
        "# **Latihan Dasar python**"
      ],
      "metadata": {
        "id": "24LJUHPzRRi9"
      }
    },
    {
      "cell_type": "markdown",
      "source": [
        "Variable dan tipe data"
      ],
      "metadata": {
        "id": "6qSOBVoQZyOM"
      }
    },
    {
      "cell_type": "code",
      "source": [
        "umur = 19\n",
        "tinggi = 167.10\n",
        "suka_python = True\n",
        "print(umur, tinggi, suka_python)"
      ],
      "metadata": {
        "colab": {
          "base_uri": "https://localhost:8080/"
        },
        "id": "cBwW0GZIWfU1",
        "outputId": "3a903eeb-d5e2-471e-f3b8-84ef14ca044d"
      },
      "execution_count": 1,
      "outputs": [
        {
          "output_type": "stream",
          "name": "stdout",
          "text": [
            "19 167.1 True\n"
          ]
        }
      ]
    },
    {
      "cell_type": "markdown",
      "source": [
        "Operasi Matematika dan operator"
      ],
      "metadata": {
        "id": "NHMZPo9jchVi"
      }
    },
    {
      "cell_type": "code",
      "source": [
        "panjang = 7\n",
        "lebar = 4\n",
        "luas_persegi_panjang = panjang * lebar\n",
        "print(luas_persegi_panjang)\n",
        "\n",
        "a = 23\n",
        "b = 5\n",
        "sisa_bagi = a % b\n",
        "pangkat = b ** 4\n",
        "print(sisa_bagi)\n",
        "print(pangkat)"
      ],
      "metadata": {
        "colab": {
          "base_uri": "https://localhost:8080/"
        },
        "id": "B6eZAhi_cqDj",
        "outputId": "1405a5ae-fb0b-40f4-8093-cb02edb0bdf2"
      },
      "execution_count": 4,
      "outputs": [
        {
          "output_type": "stream",
          "name": "stdout",
          "text": [
            "28\n",
            "3\n",
            "625\n"
          ]
        }
      ]
    },
    {
      "cell_type": "markdown",
      "source": [
        "Struktur data dasar"
      ],
      "metadata": {
        "id": "I0Y7JFOad7sa"
      }
    },
    {
      "cell_type": "code",
      "source": [
        "# List\n",
        "list_buah = [\"melon\",\"anggur\",\"berry\"]\n",
        "buah_ke_1 = list_buah[0]\n",
        "list_buah[1] = \"semangka\"\n",
        "print(buah_ke_1)\n",
        "print(list_buah)\n",
        "\n",
        "# tuple (tidak bisa diubah, berurutan dan bisa duplicate)\n",
        "angka_tuple = (1,2,5,4,4)\n",
        "angka_tuple_ke_1 = angka_tuple[0]\n",
        "print(angka_tuple)\n",
        "print(angka_tuple_ke_1)\n",
        "\n",
        "# set (tidak bisa diubah langsung, tidak berurutan dan tidak duplikat)\n",
        "angka_set = {1,2,5,4,4}\n",
        "print(angka_set)\n",
        "\n",
        "# dictionary\n",
        "identitas = {\n",
        "    \"nama\" : \"Orang\",\n",
        "    \"umur\" : 17,\n",
        "    \"negara\" : \"Unknown\"\n",
        "}\n",
        "\n",
        "for key, value in identitas.items():\n",
        "  print(f\"{key} : {value}\")\n",
        "\n",
        "print(identitas[\"umur\"])"
      ],
      "metadata": {
        "colab": {
          "base_uri": "https://localhost:8080/"
        },
        "id": "EUOTEvZGd9Pb",
        "outputId": "9eab8a5d-8842-422d-8849-0d46ba6781ff"
      },
      "execution_count": 19,
      "outputs": [
        {
          "output_type": "stream",
          "name": "stdout",
          "text": [
            "melon\n",
            "['melon', 'semangka', 'berry']\n",
            "(1, 2, 5, 4, 4)\n",
            "1\n",
            "{1, 2, 4, 5}\n",
            "nama : Orang\n",
            "umur : 17\n",
            "negara : Unknown\n",
            "17\n"
          ]
        }
      ]
    },
    {
      "cell_type": "markdown",
      "source": [
        "**Latihan**\n",
        "1. Buat list warna_favorit berisi 3 warna, lalu tambahkan  warna baru.\n",
        "\n",
        "2. Buat dictionary siswa berisi nama, umur, dan kelas.\n",
        "\n",
        "3. Ambil umur dari dictionary tersebut."
      ],
      "metadata": {
        "id": "D4AmlaE5mz_4"
      }
    },
    {
      "cell_type": "code",
      "source": [
        "# 1.\n",
        "warna_favorit = [\"abu-abu\", \"hitam\",\"ungu\"]\n",
        "warna_favorit.append(\"hijau\")\n",
        "print(warna_favorit)\n",
        "\n",
        "# 2.\n",
        "siswa = {\n",
        "    \"nama\" : \"Anonym\",\n",
        "    \"umur\" : 17,\n",
        "    \"kelas\" : \"Unknown\"\n",
        "}\n",
        "\n",
        "# 3.\n",
        "ambil_umur = siswa[\"umur\"]\n",
        "print(ambil_umur)"
      ],
      "metadata": {
        "colab": {
          "base_uri": "https://localhost:8080/"
        },
        "id": "4cE8h-W_m0kh",
        "outputId": "24a69a5b-9b1c-40a9-ab1e-eea8a0d996c6"
      },
      "execution_count": 23,
      "outputs": [
        {
          "output_type": "stream",
          "name": "stdout",
          "text": [
            "['abu-abu', 'hitam', 'ungu', 'hijau']\n",
            "17\n"
          ]
        }
      ]
    },
    {
      "cell_type": "markdown",
      "source": [
        "Percabangan (if-else)"
      ],
      "metadata": {
        "id": "y4EaRTo8poMA"
      }
    },
    {
      "cell_type": "code",
      "source": [
        "umur = 18\n",
        "\n",
        "if umur >= 70:\n",
        "  print(\"Sudah tua\")\n",
        "\n",
        "else:\n",
        "  print(\"belum tua\")"
      ],
      "metadata": {
        "colab": {
          "base_uri": "https://localhost:8080/"
        },
        "id": "SWQvTIX8ppTj",
        "outputId": "ad26dcfa-7456-4bcb-c6b1-68f35779e65f"
      },
      "execution_count": 24,
      "outputs": [
        {
          "output_type": "stream",
          "name": "stdout",
          "text": [
            "belum tua\n"
          ]
        }
      ]
    },
    {
      "cell_type": "markdown",
      "source": [
        "**Latihan**\n",
        "1. Buat program yang menerima input angka, jika genap tulis “Genap”, jika ganjil tulis “Ganjil”.\n",
        "\n",
        "2. Buat program menentukan kelulusan jika nilai >= 45."
      ],
      "metadata": {
        "id": "lR1jrvPKqHdP"
      }
    },
    {
      "cell_type": "code",
      "source": [
        "# 1.\n",
        "inputan = int(input(\"Masukkan angka : \"))\n",
        "\n",
        "if inputan % 2 == 0:\n",
        "  print(\"Bilangan ini adalah genap\")\n",
        "\n",
        "else:\n",
        "  print(\"Bilangan ini adalah ganjil\")\n",
        "\n",
        "# 2.\n",
        "inputan_nilai = float(input(\"Masukkan nilai : \"))\n",
        "\n",
        "if inputan_nilai >= 45:\n",
        "  print(\"lulus\")\n",
        "else:\n",
        "  print(\"Maaf\")"
      ],
      "metadata": {
        "colab": {
          "base_uri": "https://localhost:8080/"
        },
        "id": "GthsHDOaqQFQ",
        "outputId": "b3757c01-3925-406a-9dea-43fd9e215a24"
      },
      "execution_count": 28,
      "outputs": [
        {
          "output_type": "stream",
          "name": "stdout",
          "text": [
            "Masukkan angka : 3\n",
            "Bilangan ini adalah ganjil\n",
            "Masukkan nilai : 100\n",
            "lulus\n"
          ]
        }
      ]
    },
    {
      "cell_type": "markdown",
      "source": [
        "Perulangan (while)"
      ],
      "metadata": {
        "id": "QkK5CLo0u7Pf"
      }
    },
    {
      "cell_type": "code",
      "source": [
        "count = 10\n",
        "while count > 0:\n",
        "    print(\"Looping\", count)\n",
        "    count -= 1"
      ],
      "metadata": {
        "colab": {
          "base_uri": "https://localhost:8080/"
        },
        "id": "l0zv7bELt30g",
        "outputId": "4fa970da-358f-4044-d049-d3289c75a82f"
      },
      "execution_count": 41,
      "outputs": [
        {
          "output_type": "stream",
          "name": "stdout",
          "text": [
            "Looping 10\n",
            "Looping 9\n",
            "Looping 8\n",
            "Looping 7\n",
            "Looping 6\n",
            "Looping 5\n",
            "Looping 4\n",
            "Looping 3\n",
            "Looping 2\n",
            "Looping 1\n"
          ]
        }
      ]
    }
  ]
}